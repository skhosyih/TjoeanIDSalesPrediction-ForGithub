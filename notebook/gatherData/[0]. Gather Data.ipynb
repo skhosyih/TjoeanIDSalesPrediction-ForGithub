{
 "cells": [
  {
   "cell_type": "markdown",
   "metadata": {},
   "source": [
    "# Data Gather"
   ]
  },
  {
   "cell_type": "markdown",
   "metadata": {},
   "source": [
    "## Data Gather"
   ]
  },
  {
   "cell_type": "markdown",
   "metadata": {},
   "source": [
    "### Importing libraries and load the datasets"
   ]
  },
  {
   "cell_type": "code",
   "execution_count": 1,
   "metadata": {},
   "outputs": [],
   "source": [
    "import datetime\n",
    "import pandas as pd\n",
    "from openpyxl import Workbook"
   ]
  },
  {
   "cell_type": "code",
   "execution_count": 2,
   "metadata": {},
   "outputs": [],
   "source": [
    "#  Load all the datasets\n",
    "df = pd.read_excel(r\"..\\..\\data\\DimsumTJOEAN.xlsx\", sheet_name=None)"
   ]
  },
  {
   "cell_type": "markdown",
   "metadata": {},
   "source": [
    "### Delete `sheet_name` that we don't want to use"
   ]
  },
  {
   "cell_type": "code",
   "execution_count": 3,
   "metadata": {},
   "outputs": [
    {
     "data": {
      "text/plain": [
       "['DEC22',\n",
       " 'NOV22',\n",
       " 'OCT22',\n",
       " 'SEP22',\n",
       " 'AUG22',\n",
       " 'JUL22',\n",
       " 'JUN22',\n",
       " 'MAY22',\n",
       " 'APR22',\n",
       " 'MAR22',\n",
       " 'FEB22',\n",
       " 'JAN22',\n",
       " 'DEC21',\n",
       " 'NOV21',\n",
       " 'SEP21',\n",
       " 'OCT21',\n",
       " 'AUG21',\n",
       " 'JUL21',\n",
       " 'JUN21',\n",
       " 'MAY21',\n",
       " 'APR21',\n",
       " 'MAR21',\n",
       " 'FEB21',\n",
       " 'JAN21',\n",
       " 'GENERAL',\n",
       " 'HAMPERS',\n",
       " 'EID DELIVERY 2021',\n",
       " 'CHRISTMAS DELIVERY 2021',\n",
       " 'RESELLER TJOEAN']"
      ]
     },
     "execution_count": 3,
     "metadata": {},
     "output_type": "execute_result"
    }
   ],
   "source": [
    "# See list of sheet_name in dict data types perspective'\n",
    "list(df.keys())"
   ]
  },
  {
   "cell_type": "code",
   "execution_count": 4,
   "metadata": {},
   "outputs": [],
   "source": [
    "# Define the keys to remove\n",
    "keys = ['GENERAL', 'HAMPERS', 'EID DELIVERY 2021', \n",
    "        'CHRISTMAS DELIVERY 2021', 'RESELLER TJOEAN']\n",
    "\n",
    "# Remove sheet_name that we don't want to use\n",
    "for key in keys:\n",
    "    df.pop(key, None)"
   ]
  },
  {
   "cell_type": "code",
   "execution_count": 5,
   "metadata": {},
   "outputs": [
    {
     "data": {
      "text/plain": [
       "['DEC22',\n",
       " 'NOV22',\n",
       " 'OCT22',\n",
       " 'SEP22',\n",
       " 'AUG22',\n",
       " 'JUL22',\n",
       " 'JUN22',\n",
       " 'MAY22',\n",
       " 'APR22',\n",
       " 'MAR22',\n",
       " 'FEB22',\n",
       " 'JAN22',\n",
       " 'DEC21',\n",
       " 'NOV21',\n",
       " 'SEP21',\n",
       " 'OCT21',\n",
       " 'AUG21',\n",
       " 'JUL21',\n",
       " 'JUN21',\n",
       " 'MAY21',\n",
       " 'APR21',\n",
       " 'MAR21',\n",
       " 'FEB21',\n",
       " 'JAN21']"
      ]
     },
     "execution_count": 5,
     "metadata": {},
     "output_type": "execute_result"
    }
   ],
   "source": [
    "# See again the list of sheet_name\n",
    "list(df.keys())"
   ]
  },
  {
   "cell_type": "markdown",
   "metadata": {},
   "source": [
    "### Export the dataframe into excel files"
   ]
  },
  {
   "cell_type": "code",
   "execution_count": 3,
   "metadata": {},
   "outputs": [],
   "source": [
    "# Load datasets and convert it into excel based on month of sales's sheets\n",
    "JAN21 = df['JAN21'].to_excel(r\"..\\..\\data\\gatherData\\JAN21_DimsumTJOEAN.xlsx\", index=False)\n",
    "FEB21 = df['FEB21'].to_excel(r\"..\\..\\data\\gatherData\\FEB21_DimsumTJOEAN.xlsx\", index=False)\n",
    "MAR21 = df['MAR21'].to_excel(r\"..\\..\\data\\gatherData\\MAR21_DimsumTJOEAN.xlsx\", index=False)\n",
    "APR21 = df['APR21'].to_excel(r\"..\\..\\data\\gatherData\\APR21_DimsumTJOEAN.xlsx\", index=False)\n",
    "MAY21 = df['MAY21'].to_excel(r\"..\\..\\data\\gatherData\\MAY21_DimsumTJOEAN.xlsx\", index=False)\n",
    "JUN21 = df['JUN21'].to_excel(r\"..\\..\\data\\gatherData\\JUN21_DimsumTJOEAN.xlsx\", index=False)\n",
    "JUL21 = df['JUL21'].to_excel(r\"..\\..\\data\\gatherData\\JUL21_DimsumTJOEAN.xlsx\", index=False)\n",
    "AUG21 = df['AUG21'].to_excel(r\"..\\..\\data\\gatherData\\AUG21_DimsumTJOEAN.xlsx\", index=False)\n",
    "SEP21 = df['SEP21'].to_excel(r\"..\\..\\data\\gatherData\\SEP21_DimsumTJOEAN.xlsx\", index=False)\n",
    "OCT21 = df['OCT21'].to_excel(r\"..\\..\\data\\gatherData\\OCT21_DimsumTJOEAN.xlsx\", index=False)\n",
    "NOV21 = df['NOV21'].to_excel(r\"..\\..\\data\\gatherData\\NOV21_DimsumTJOEAN.xlsx\", index=False)\n",
    "DEC21 = df['DEC21'].to_excel(r\"..\\..\\data\\gatherData\\DEC21_DimsumTJOEAN.xlsx\", index=False)\n",
    "\n",
    "JAN22 = df['JAN22'].to_excel(r\"..\\..\\data\\gatherData\\JAN22_DimsumTJOEAN.xlsx\", index=False)\n",
    "FEB22 = df['FEB22'].to_excel(r\"..\\..\\data\\gatherData\\FEB22_DimsumTJOEAN.xlsx\", index=False)\n",
    "MAR22 = df['MAR22'].to_excel(r\"..\\..\\data\\gatherData\\MAR22_DimsumTJOEAN.xlsx\", index=False)\n",
    "APR22 = df['APR22'].to_excel(r\"..\\..\\data\\gatherData\\APR22_DimsumTJOEAN.xlsx\", index=False)\n",
    "MAY22 = df['MAY22'].to_excel(r\"..\\..\\data\\gatherData\\MAY22_DimsumTJOEAN.xlsx\", index=False)\n",
    "JUN22 = df['JUN22'].to_excel(r\"..\\..\\data\\gatherData\\JUN22_DimsumTJOEAN.xlsx\", index=False)\n",
    "JUL22 = df['JUL22'].to_excel(r\"..\\..\\data\\gatherData\\JUL22_DimsumTJOEAN.xlsx\", index=False)\n",
    "AUG22 = df['AUG22'].to_excel(r\"..\\..\\data\\gatherData\\AUG22_DimsumTJOEAN.xlsx\", index=False)\n",
    "SEP22 = df['SEP22'].to_excel(r\"..\\..\\data\\gatherData\\SEP22_DimsumTJOEAN.xlsx\", index=False)\n",
    "OCT22 = df['OCT22'].to_excel(r\"..\\..\\data\\gatherData\\OCT22_DimsumTJOEAN.xlsx\", index=False)\n",
    "NOV22 = df['NOV22'].to_excel(r\"..\\..\\data\\gatherData\\NOV22_DimsumTJOEAN.xlsx\", index=False)\n",
    "DEC22 = df['DEC22'].to_excel(r\"..\\..\\data\\gatherData\\DEC22_DimsumTJOEAN.xlsx\", index=False)"
   ]
  }
 ],
 "metadata": {
  "kernelspec": {
   "display_name": "tvenv",
   "language": "python",
   "name": "python3"
  },
  "language_info": {
   "codemirror_mode": {
    "name": "ipython",
    "version": 3
   },
   "file_extension": ".py",
   "mimetype": "text/x-python",
   "name": "python",
   "nbconvert_exporter": "python",
   "pygments_lexer": "ipython3",
   "version": "3.11.6"
  }
 },
 "nbformat": 4,
 "nbformat_minor": 2
}
